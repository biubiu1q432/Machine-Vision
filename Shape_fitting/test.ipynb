{
 "cells": [
  {
   "cell_type": "code",
   "execution_count": null,
   "metadata": {},
   "outputs": [],
   "source": [
    "import cv2\n",
    "import numpy as np\n",
    "\n",
    "#预处理\n",
    "path=r\"C:\\Users\\86135\\Desktop\\Machine_Vision\\Shape_fitting\\point3.jpg\"\n",
    "img = cv2.imread(path)\n",
    "gray = cv2.cvtColor(img, cv2.COLOR_BGR2GRAY)\n",
    "ret, thresh = cv2.threshold(gray, 127, 255, 0)\n",
    "kernel = np.ones((5,5),np.uint8)\n",
    "dilation = cv2.dilate(thresh,kernel,iterations = 1)\n",
    "judge_index = 2 #分界线\n",
    "y_dis = 43  #步长\n",
    "x_dis = 5\n",
    "\n",
    "points = []\n",
    "colors = []\n",
    "center_points=[]\n",
    "p1 = []\n",
    "p2 = []\n"
   ]
  },
  {
   "cell_type": "code",
   "execution_count": null,
   "metadata": {},
   "outputs": [],
   "source": [
    "contours, hierarchy = cv2.findContours(dilation, cv2.RETR_EXTERNAL, cv2.CHAIN_APPROX_NONE)\n",
    "for contour in contours:\n",
    "    x_, y_, w_, h_ = cv2.boundingRect(contour)\n",
    "\n",
    "    y_down = y_+h_ - 5\n",
    "    y_up = y_+5\n",
    "    x_left = x_ - 20\n",
    "    x_right = x_+w_+ 20\n",
    "\n",
    "    for y in range(y_down,y_up,-y_dis):        \n",
    "        for x in range(x_left,x_right,x_dis):\n",
    "            points.append((x,y))\n",
    "            colors.append(dilation[y,x])\n",
    "         \n",
    "            #如果dilation后三个数都是255，前面所有数都是0\n",
    "            if colors[-judge_index:].count(255) == judge_index and colors[:-judge_index].count(0) == len(colors)-judge_index and len(colors)> judge_index:\n",
    "                cv2.circle(img, (points[-judge_index][0], points[-judge_index][1]), 5, (0, 0, 255), -1)\n",
    "                p1 = points[-judge_index]\n",
    "                points = []\n",
    "                colors = []\n",
    "\n",
    "            #如果dilation后三个数都是0，前面所有数都是255\n",
    "            if colors[-judge_index:].count(0) == judge_index and colors[:-judge_index].count(255) == len(colors)-judge_index and len(colors) > judge_index:\n",
    "                cv2.circle(img, (points[-judge_index][0], points[-judge_index][1]), 5, (0, 255, 0), -1)\n",
    "                p2 = points[-judge_index]\n",
    "                points = []\n",
    "                colors = []\n",
    "\n",
    "            #取中点\n",
    "            if p1 != [] and p2 != []:\n",
    "                center_point = ((p1[0]+p2[0])//2, (p1[1]+p2[1])//2)\n",
    "                cv2.circle(img, (center_point[0], center_point[1]), 15, (255, 0, 255), -1)\n",
    "                center_points.append(center_point)\n",
    "                p1 = []\n",
    "                p2 = []\n",
    "\n",
    "    print(center_points)\n",
    "    cv2.imshow('img', img)\n",
    "    cv2.waitKey(0)"
   ]
  }
 ],
 "metadata": {
  "kernelspec": {
   "display_name": "YOLO",
   "language": "python",
   "name": "python3"
  },
  "language_info": {
   "codemirror_mode": {
    "name": "ipython",
    "version": 3
   },
   "file_extension": ".py",
   "mimetype": "text/x-python",
   "name": "python",
   "nbconvert_exporter": "python",
   "pygments_lexer": "ipython3",
   "version": "3.9.19"
  }
 },
 "nbformat": 4,
 "nbformat_minor": 2
}
